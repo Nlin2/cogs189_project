{
 "cells": [
  {
   "cell_type": "code",
   "execution_count": 1,
   "id": "clear-fraud",
   "metadata": {},
   "outputs": [],
   "source": [
    "import tensorflow as tf\n",
    "from models.EEGModels import EEGNet\n",
    "import pandas as pd\n",
    "import os\n",
    "from datetime import timedelta\n",
    "import numpy as np\n",
    "\n",
    "from sklearn.model_selection import train_test_split"
   ]
  },
  {
   "cell_type": "code",
   "execution_count": 2,
   "id": "loose-sixth",
   "metadata": {},
   "outputs": [],
   "source": [
    "session_four_fp = os.path.join(\"data\",\"session_four\",\"_2021-03-10--03-38-49.csv\")\n",
    "\n",
    "ses4 = pd.read_csv(session_four_fp, parse_dates=[\"TimeStamp\"])\n",
    "\n",
    "# Time Markers\n",
    "m1 = ses4.TimeStamp[0]\n",
    "m2 = ses4.TimeStamp[0] + timedelta(seconds=60*5)\n",
    "m3 = ses4.TimeStamp[0] + timedelta(seconds=60*10)\n",
    "m4 = ses4.TimeStamp.iloc[-1]\n",
    "\n",
    "# Data for EEGNet\n",
    "ses4_timestamps = [m1, m2 , m3, m4]"
   ]
  },
  {
   "cell_type": "code",
   "execution_count": 3,
   "id": "social-launch",
   "metadata": {},
   "outputs": [],
   "source": [
    "# Coding note: this is a lot of hard-coding. \n",
    "# Data Preperation: Conversion to 128 Hz\n",
    "# Concept\n",
    "# group by second\n",
    "# 1. drop na\n",
    "# 2. sample random uniform 128\n",
    "# 3. go to next group\n",
    "initTime = ses4.TimeStamp[0]\n",
    "one_second = timedelta(seconds=1)\n",
    "finalTime = ses4.TimeStamp.iloc[-1]\n",
    "df = pd.DataFrame([], columns=ses4.columns)\n",
    "for t in range(1, (finalTime - initTime).seconds):\n",
    "    start = initTime + one_second * (t - 1)\n",
    "    end = start + one_second\n",
    "    \n",
    "    num_vals = ses4[(ses4.TimeStamp < end) & (ses4.TimeStamp > start)]\n",
    "    num_vals.dropna(axis=1) # Drop na\n",
    "    sample = num_vals.sample(128).sample(128, replace=False).sort_values(\"TimeStamp\") # random sample\n",
    "    df = df.append(sample)\n",
    "\n",
    "feature_space = ['RAW_AF7', 'RAW_AF8', 'RAW_TP9', \"RAW_TP10\"]\n",
    "\n",
    "# X should be formatted (trials, channels, samples, kernel=1)\n",
    "X = np.array(df[feature_space])\n",
    "temp = []\n",
    "for i in range(928): # num of trials\n",
    "    temp.append(X[i * 128:(i+1) * 128].T)\n",
    "X = np.array(temp).reshape(928, 4, 128, 1)\n",
    "\n",
    "y = np.concatenate([\n",
    "    np.array([0,1] * 300).reshape(300, -2),\n",
    "    np.array([1,0] * 300).reshape(300, -2),\n",
    "    np.array([0,1] * 328).reshape(328, -2),\n",
    "])"
   ]
  },
  {
   "cell_type": "code",
   "execution_count": 4,
   "id": "informative-python",
   "metadata": {},
   "outputs": [
    {
     "name": "stderr",
     "output_type": "stream",
     "text": [
      "/home/nick/miniconda3/envs/cogs189_eegnet/lib/python3.7/site-packages/ipykernel_launcher.py:1: VisibleDeprecationWarning: Creating an ndarray from ragged nested sequences (which is a list-or-tuple of lists-or-tuples-or ndarrays with different lengths or shapes) is deprecated. If you meant to do this, you must specify 'dtype=object' when creating the ndarray\n",
      "  \"\"\"Entry point for launching an IPython kernel.\n"
     ]
    }
   ],
   "source": [
    "train, test_val = train_test_split(np.array(list(zip(X, y))), train_size=.9)\n",
    "test, val = train_test_split(test_val, train_size=.5)\n",
    "\n",
    "train_X, train_y = [np.array([ X for X, y in train ]), np.array([ y for X,y in train ])]\n",
    "test_X, test_y = [np.array([ X for X, y in test ]), np.array([ y for X,y in test ])]\n",
    "val_X, val_y = [np.array([ X for X, y in val ]), np.array([ y for X,y in val ])]"
   ]
  },
  {
   "cell_type": "code",
   "execution_count": 5,
   "id": "knowing-parts",
   "metadata": {},
   "outputs": [
    {
     "name": "stdout",
     "output_type": "stream",
     "text": [
      "WARNING:tensorflow:From /home/nick/miniconda3/envs/cogs189_eegnet/lib/python3.7/site-packages/tensorflow_core/python/ops/resource_variable_ops.py:1630: calling BaseResourceVariable.__init__ (from tensorflow.python.ops.resource_variable_ops) with constraint is deprecated and will be removed in a future version.\n",
      "Instructions for updating:\n",
      "If using Keras pass *_constraint arguments to layers.\n",
      "WARNING:tensorflow:From /home/nick/miniconda3/envs/cogs189_eegnet/lib/python3.7/site-packages/tensorflow_core/python/ops/math_grad.py:1424: where (from tensorflow.python.ops.array_ops) is deprecated and will be removed in a future version.\n",
      "Instructions for updating:\n",
      "Use tf.where in 2.0, which has the same broadcast rule as np.where\n",
      "Train on 835 samples, validate on 47 samples\n",
      "Epoch 1/10\n",
      "835/835 [==============================] - 1s 1ms/sample - loss: nan - acc: 0.5000 - val_loss: nan - val_acc: 0.5000\n",
      "Epoch 2/10\n",
      "835/835 [==============================] - 1s 611us/sample - loss: nan - acc: 0.5000 - val_loss: nan - val_acc: 0.5000\n",
      "Epoch 3/10\n",
      "835/835 [==============================] - 1s 660us/sample - loss: nan - acc: 0.5000 - val_loss: nan - val_acc: 0.5000\n",
      "Epoch 4/10\n",
      "835/835 [==============================] - 1s 667us/sample - loss: nan - acc: 0.5000 - val_loss: nan - val_acc: 0.5000\n",
      "Epoch 5/10\n",
      "835/835 [==============================] - 1s 629us/sample - loss: nan - acc: 0.5000 - val_loss: nan - val_acc: 0.5000\n",
      "Epoch 6/10\n",
      "835/835 [==============================] - 1s 721us/sample - loss: nan - acc: 0.5000 - val_loss: nan - val_acc: 0.5000\n",
      "Epoch 7/10\n",
      "835/835 [==============================] - 1s 655us/sample - loss: nan - acc: 0.5000 - val_loss: nan - val_acc: 0.5000\n",
      "Epoch 8/10\n",
      "835/835 [==============================] - 1s 638us/sample - loss: nan - acc: 0.5000 - val_loss: nan - val_acc: 0.5000\n",
      "Epoch 9/10\n",
      "835/835 [==============================] - 1s 619us/sample - loss: nan - acc: 0.5000 - val_loss: nan - val_acc: 0.5000\n",
      "Epoch 10/10\n",
      "835/835 [==============================] - 1s 636us/sample - loss: nan - acc: 0.5000 - val_loss: nan - val_acc: 0.5000\n"
     ]
    },
    {
     "data": {
      "text/plain": [
       "<tensorflow.python.keras.callbacks.History at 0x7f086093d990>"
      ]
     },
     "execution_count": 5,
     "metadata": {},
     "output_type": "execute_result"
    }
   ],
   "source": [
    "model = EEGNet(\n",
    "    nb_classes=2,\n",
    "    Chans=4,\n",
    "    Samples=128)\n",
    "model.compile(loss='binary_crossentropy', optimizer = 'adam', metrics=[\"accuracy\"])\n",
    "model.fit(train_X, train_y, validation_data=(val_X, val_y), batch_size=16, epochs=10)"
   ]
  },
  {
   "cell_type": "code",
   "execution_count": 6,
   "id": "homeless-joseph",
   "metadata": {},
   "outputs": [
    {
     "data": {
      "text/plain": [
       "array([[nan, nan],\n",
       "       [nan, nan],\n",
       "       [nan, nan],\n",
       "       [nan, nan],\n",
       "       [nan, nan],\n",
       "       [nan, nan],\n",
       "       [nan, nan],\n",
       "       [nan, nan],\n",
       "       [nan, nan],\n",
       "       [nan, nan],\n",
       "       [nan, nan],\n",
       "       [nan, nan],\n",
       "       [nan, nan],\n",
       "       [nan, nan],\n",
       "       [nan, nan],\n",
       "       [nan, nan],\n",
       "       [nan, nan],\n",
       "       [nan, nan],\n",
       "       [nan, nan],\n",
       "       [nan, nan],\n",
       "       [nan, nan],\n",
       "       [nan, nan],\n",
       "       [nan, nan],\n",
       "       [nan, nan],\n",
       "       [nan, nan],\n",
       "       [nan, nan],\n",
       "       [nan, nan],\n",
       "       [nan, nan],\n",
       "       [nan, nan],\n",
       "       [nan, nan],\n",
       "       [nan, nan],\n",
       "       [nan, nan],\n",
       "       [nan, nan],\n",
       "       [nan, nan],\n",
       "       [nan, nan],\n",
       "       [nan, nan],\n",
       "       [nan, nan],\n",
       "       [nan, nan],\n",
       "       [nan, nan],\n",
       "       [nan, nan],\n",
       "       [nan, nan],\n",
       "       [nan, nan],\n",
       "       [nan, nan],\n",
       "       [nan, nan],\n",
       "       [nan, nan],\n",
       "       [nan, nan]], dtype=float32)"
      ]
     },
     "execution_count": 6,
     "metadata": {},
     "output_type": "execute_result"
    }
   ],
   "source": [
    "model.predict(test_X)"
   ]
  }
 ],
 "metadata": {
  "kernelspec": {
   "display_name": "Python 3",
   "language": "python",
   "name": "python3"
  },
  "language_info": {
   "codemirror_mode": {
    "name": "ipython",
    "version": 3
   },
   "file_extension": ".py",
   "mimetype": "text/x-python",
   "name": "python",
   "nbconvert_exporter": "python",
   "pygments_lexer": "ipython3",
   "version": "3.8.8"
  }
 },
 "nbformat": 4,
 "nbformat_minor": 5
}
